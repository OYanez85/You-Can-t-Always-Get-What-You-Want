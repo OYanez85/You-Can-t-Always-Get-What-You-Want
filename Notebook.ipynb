{
 "cells": [
  {
   "cell_type": "code",
   "execution_count": 1,
   "id": "85af6ffd",
   "metadata": {
    "execution": {
     "iopub.execute_input": "2024-12-13T07:25:50.004899Z",
     "iopub.status.busy": "2024-12-13T07:25:50.004302Z",
     "iopub.status.idle": "2024-12-13T07:25:50.947439Z",
     "shell.execute_reply": "2024-12-13T07:25:50.946114Z"
    },
    "papermill": {
     "duration": 0.949948,
     "end_time": "2024-12-13T07:25:50.949728",
     "exception": false,
     "start_time": "2024-12-13T07:25:49.999780",
     "status": "completed"
    },
    "tags": []
   },
   "outputs": [
    {
     "name": "stdout",
     "output_type": "stream",
     "text": [
      "Submission file 'submission.csv' created and ready for upload.\n"
     ]
    }
   ],
   "source": [
    "import pandas as pd\n",
    "import random\n",
    "\n",
    "# Load the test dataset\n",
    "test_data = pd.read_csv('/kaggle/input/llms-you-cant-please-them-all/test.csv')\n",
    "\n",
    "# Function to generate an essay to maximize judge disagreement\n",
    "def generate_essay(topic):\n",
    "    \"\"\"\n",
    "    Generates an essay with diverse, contrasting views and rhetorical contradictions\n",
    "    to maximize variance in LLM judge scoring.\n",
    "    \"\"\"\n",
    "    # Introduction templates\n",
    "    intros = [\n",
    "        f\"The topic '{topic}' stands at the crossroads of innovation and tradition.\",\n",
    "        f\"Exploring '{topic}' reveals both opportunities and significant challenges.\",\n",
    "        f\"'{topic}' is a deeply polarizing issue that demands nuanced consideration.\",\n",
    "        f\"In discussing '{topic}', we confront both hope and apprehension.\"\n",
    "    ]\n",
    "    \n",
    "    # Conflicting arguments\n",
    "    arguments = [\n",
    "        f\"Some see '{topic}' as a beacon of hope, promising solutions to humanity's greatest challenges.\",\n",
    "        f\"Others argue that '{topic}' creates more problems than it solves, widening inequalities.\",\n",
    "        f\"While advocates of '{topic}' highlight its transformative power, critics fear its misuse.\",\n",
    "        f\"Debates about '{topic}' often highlight its potential for both good and harm.\"\n",
    "    ]\n",
    "    \n",
    "    # Rhetorical contradictions\n",
    "    contradictions = [\n",
    "        f\"Curiously, '{topic}' represents both progress and a step backward—an irony that defines its legacy.\",\n",
    "        f\"Despite its potential, '{topic}' often falls short, raising questions about its viability.\",\n",
    "        f\"The duality of '{topic}' lies in its ability to both unite and divide societies.\",\n",
    "        f\"'{topic}' simultaneously inspires progress and evokes nostalgia for a simpler past.\"\n",
    "    ]\n",
    "    \n",
    "    # Philosophical reflections\n",
    "    reflections = [\n",
    "        f\"Philosophically, '{topic}' challenges our understanding of morality and purpose.\",\n",
    "        f\"'{topic}' invites us to rethink what progress truly means in an interconnected world.\",\n",
    "        f\"On a deeper level, '{topic}' reflects humanity's struggle to balance ambition with ethics.\",\n",
    "        f\"The complexities of '{topic}' force us to question the very foundations of societal advancement.\"\n",
    "    ]\n",
    "    \n",
    "    # Build the essay with a deliberate structure\n",
    "    essay = []\n",
    "    essay.append(random.choice(intros))  # Start with an introduction\n",
    "    \n",
    "    # Add a series of arguments, ensuring balance\n",
    "    for _ in range(random.randint(1, 2)):\n",
    "        essay.append(random.choice(arguments))\n",
    "    \n",
    "    # Add at least one rhetorical contradiction\n",
    "    essay.append(random.choice(contradictions))\n",
    "    \n",
    "    # Add a philosophical reflection for depth\n",
    "    essay.append(random.choice(reflections))\n",
    "    \n",
    "    # Conclude with a thought-provoking contradiction or reflection\n",
    "    essay.append(random.choice(contradictions + reflections))\n",
    "    \n",
    "    # Combine paragraphs with double line breaks\n",
    "    return \"\\n\\n\".join(essay)\n",
    "\n",
    "# Generate essays for all topics in the test set\n",
    "test_data['essay'] = test_data['topic'].apply(generate_essay)\n",
    "\n",
    "# Save the generated essays to a submission file\n",
    "submission_file = 'submission.csv'\n",
    "test_data[['id', 'essay']].to_csv(submission_file, index=False)\n",
    "\n",
    "print(f\"Submission file '{submission_file}' created and ready for upload.\")\n"
   ]
  }
 ],
 "metadata": {
  "kaggle": {
   "accelerator": "none",
   "dataSources": [
    {
     "databundleVersionId": 10369658,
     "sourceId": 83035,
     "sourceType": "competition"
    }
   ],
   "dockerImageVersionId": 30804,
   "isGpuEnabled": false,
   "isInternetEnabled": true,
   "language": "python",
   "sourceType": "notebook"
  },
  "kernelspec": {
   "display_name": "Python 3",
   "language": "python",
   "name": "python3"
  },
  "language_info": {
   "codemirror_mode": {
    "name": "ipython",
    "version": 3
   },
   "file_extension": ".py",
   "mimetype": "text/x-python",
   "name": "python",
   "nbconvert_exporter": "python",
   "pygments_lexer": "ipython3",
   "version": "3.10.14"
  },
  "papermill": {
   "default_parameters": {},
   "duration": 4.192777,
   "end_time": "2024-12-13T07:25:51.474475",
   "environment_variables": {},
   "exception": null,
   "input_path": "__notebook__.ipynb",
   "output_path": "__notebook__.ipynb",
   "parameters": {},
   "start_time": "2024-12-13T07:25:47.281698",
   "version": "2.6.0"
  }
 },
 "nbformat": 4,
 "nbformat_minor": 5
}
